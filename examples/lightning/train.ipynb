{
 "cells": [
  {
   "cell_type": "code",
   "execution_count": null,
   "id": "af935c99",
   "metadata": {},
   "outputs": [],
   "source": [
    "import os\n",
    "import torch\n",
    "from torchvision import models, transforms\n",
    "from torch.utils.data import DataLoader, Dataset\n",
    "\n",
    "from byol_pytorch import BYOL\n",
    "import pytorch_lightning as pl\n",
    "\n",
    "from torchvision import datasets\n",
    "\n",
    "from sklearn.decomposition import PCA\n",
    "import matplotlib.pyplot as plt"
   ]
  },
  {
   "cell_type": "code",
   "execution_count": null,
   "id": "c39544a8",
   "metadata": {},
   "outputs": [],
   "source": [
    "resnet = models.resnet50(weights=None)"
   ]
  },
  {
   "cell_type": "code",
   "execution_count": null,
   "id": "0e0dc86e",
   "metadata": {},
   "outputs": [],
   "source": [
    "BATCH_SIZE = 512\n",
    "EPOCHS = 2\n",
    "LR = 3e-4\n",
    "NUM_GPUS = 1\n",
    "IMAGE_SIZE = 224\n",
    "NUM_WORKERS = int(os.environ['SLURM_CPUS_PER_TASK'])"
   ]
  },
  {
   "cell_type": "code",
   "execution_count": null,
   "id": "c5293cb0",
   "metadata": {},
   "outputs": [],
   "source": [
    "class SelfSupervisedLearner(pl.LightningModule):\n",
    "    def __init__(self, net, **kwargs):\n",
    "        super().__init__()\n",
    "        self.learner = BYOL(net, **kwargs)\n",
    "\n",
    "    def forward(self, images):\n",
    "        return self.learner(images)\n",
    "\n",
    "    def training_step(self, images, _):\n",
    "        loss = self.forward(images)\n",
    "        return {'loss': loss}\n",
    "\n",
    "    def configure_optimizers(self):\n",
    "        return torch.optim.Adam(self.parameters(), lr=LR)\n",
    "\n",
    "    def on_before_zero_grad(self, _):\n",
    "        if self.learner.use_momentum:\n",
    "            self.learner.update_moving_average()"
   ]
  },
  {
   "cell_type": "code",
   "execution_count": null,
   "id": "7c3cf0c5",
   "metadata": {},
   "outputs": [],
   "source": [
    "class GenericLightningWrapper(pl.LightningModule):\n",
    "    def __init__(self, net, **kwargs):\n",
    "        super().__init__()\n",
    "        self.learner = net\n",
    "        \n",
    "    def forward(self, images):\n",
    "        return self.learner(images)"
   ]
  },
  {
   "cell_type": "code",
   "execution_count": null,
   "id": "99ff8b54",
   "metadata": {},
   "outputs": [],
   "source": [
    "class CIFAR10_Wrapper(Dataset):\n",
    "    def __init__(self, original_dataset):\n",
    "        self.original_dataset = original_dataset\n",
    "\n",
    "    def __len__(self):\n",
    "        return len(self.original_dataset)\n",
    "\n",
    "    def __getitem__(self, idx):\n",
    "        image, _ = self.original_dataset[idx]\n",
    "        return image"
   ]
  },
  {
   "cell_type": "code",
   "execution_count": null,
   "id": "5c76470c",
   "metadata": {},
   "outputs": [],
   "source": [
    "transform = transforms.Compose([\n",
    "    transforms.ToTensor(),\n",
    "])\n",
    "\n",
    "ds_train = datasets.ImageNet(root=\"/scratch/gpfs/DATASETS/imagenet/ilsvrc_2012_classification_localization\", split=\"train\")\n",
    "wrapper_train = CIFAR10_Wrapper(ds_train)\n",
    "train_loader = DataLoader(wrapper_train, batch_size=BATCH_SIZE, num_workers=NUM_WORKERS, shuffle=True)\n",
    "\n",
    "ds_test = datasets.ImageNet(root=\"/scratch/gpfs/DATASETS/imagenet/ilsvrc_2012_classification_localization\", split=\"val\")\n",
    "test_loader = DataLoader(ds_test, batch_size=BATCH_SIZE, num_workers=NUM_WORKERS, shuffle=False)"
   ]
  },
  {
   "cell_type": "code",
   "execution_count": null,
   "id": "9ec97956f3729604",
   "metadata": {},
   "outputs": [],
   "source": [
    "def visualize(net, data_loader, classes):\n",
    "    net.eval()\n",
    "    all_features = []\n",
    "    all_labels = []\n",
    "    with torch.no_grad():\n",
    "        for i, (images, labels) in enumerate(data_loader):\n",
    "            output = net(images)\n",
    "            all_features.append(output.view(output.size(0), -1))\n",
    "            all_labels.extend(labels)\n",
    "            \n",
    "    features = torch.cat(all_features).numpy()\n",
    "    labels = torch.tensor(all_labels).numpy()\n",
    "    \n",
    "    pca = PCA()\n",
    "    pca_features = pca.fit_transform(features)\n",
    "    \n",
    "    print(pca.explained_variance_ratio_)\n",
    "\n",
    "    plt.figure(figsize=(10, 8))\n",
    "    scatter = plt.scatter(pca_features[:, 0], pca_features[:, 1], c=labels, cmap='plasma')\n",
    "    plt.legend(handles=scatter.legend_elements()[0], labels=classes)\n",
    "    plt.xlabel('PC1')\n",
    "    plt.ylabel('PC2')\n",
    "    plt.title('Model Features Projected to 2D using PCA')\n",
    "    plt.show()"
   ]
  },
  {
   "cell_type": "code",
   "execution_count": null,
   "id": "ddc07eba7f8c28c0",
   "metadata": {},
   "outputs": [],
   "source": [
    "classes = ('plane', 'car', 'bird', 'cat', 'deer',\n",
    "           'dog', 'frog', 'horse', 'ship', 'truck')\n",
    "visualize(GenericLightningWrapper(resnet), test_loader, classes)"
   ]
  },
  {
   "cell_type": "code",
   "execution_count": null,
   "id": "c6ae57d9",
   "metadata": {},
   "outputs": [],
   "source": [
    "model = SelfSupervisedLearner(\n",
    "    resnet,\n",
    "    image_size=IMAGE_SIZE,\n",
    "    hidden_layer='avgpool',\n",
    "    projection_size=256,\n",
    "    projection_hidden_size=4096,\n",
    "    moving_average_decay=0.99\n",
    ")\n",
    "\n",
    "trainer = pl.Trainer(\n",
    "    devices=NUM_GPUS,\n",
    "    max_epochs=EPOCHS,\n",
    "    accumulate_grad_batches=1,\n",
    "    sync_batchnorm=True\n",
    ")"
   ]
  },
  {
   "cell_type": "code",
   "execution_count": null,
   "id": "94088609",
   "metadata": {},
   "outputs": [],
   "source": [
    "trainer.fit(model, train_loader)"
   ]
  },
  {
   "cell_type": "code",
   "execution_count": null,
   "id": "d15c5b83",
   "metadata": {},
   "outputs": [],
   "source": [
    "visualize(GenericLightningWrapper(resnet), test_loader, classes)"
   ]
  }
 ],
 "metadata": {
  "kernelspec": {
   "display_name": "byol [~/.conda/envs/byol/]",
   "language": "python",
   "name": "conda_byol"
  },
  "language_info": {
   "codemirror_mode": {
    "name": "ipython",
    "version": 3
   },
   "file_extension": ".py",
   "mimetype": "text/x-python",
   "name": "python",
   "nbconvert_exporter": "python",
   "pygments_lexer": "ipython3",
   "version": "3.12.1"
  }
 },
 "nbformat": 4,
 "nbformat_minor": 5
}
