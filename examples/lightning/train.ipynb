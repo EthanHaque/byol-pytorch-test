{
 "cells": [
  {
   "cell_type": "code",
   "execution_count": null,
   "id": "af935c99",
   "metadata": {},
   "outputs": [],
   "source": [
    "import os\n",
    "import subprocess\n",
    "import torch\n",
    "from torchvision import models, transforms\n",
    "from torch.utils.data import DataLoader, Dataset\n",
    "\n",
    "from byol_pytorch import BYOL\n",
    "import pytorch_lightning as pl\n",
    "\n",
    "from torchvision import datasets\n",
    "\n",
    "from sklearn.decomposition import PCA\n",
    "import matplotlib.pyplot as plt"
   ]
  },
  {
   "cell_type": "code",
   "execution_count": null,
   "id": "c39544a8",
   "metadata": {},
   "outputs": [],
   "source": [
    "resnet = models.resnet50(weights=None)"
   ]
  },
  {
   "cell_type": "code",
   "execution_count": null,
   "id": "691b90c467673192",
   "metadata": {},
   "outputs": [],
   "source": [
    "BATCH_SIZE = 256\n",
    "EPOCHS = 2\n",
    "LR = 3e-4\n",
    "NUM_GPUS = int(os.environ[\"SLURM_GPUS_ON_NODE\"])\n",
    "IMAGE_SIZE = 224\n",
    "NUM_WORKERS = int(os.environ['SLURM_CPUS_PER_TASK'])"
   ]
  },
  {
   "cell_type": "code",
   "execution_count": null,
   "id": "3ae85257f0047685",
   "metadata": {},
   "outputs": [],
   "source": [
    "class SelfSupervisedLearner(pl.LightningModule):\n",
    "    def __init__(self, net, **kwargs):\n",
    "        super().__init__()\n",
    "        self.learner = BYOL(net, **kwargs)\n",
    "\n",
    "    def forward(self, images):\n",
    "        return self.learner(images)\n",
    "\n",
    "    def training_step(self, batch, batch_idx):\n",
    "        images, labels = batch\n",
    "        loss = self.forward(images)\n",
    "        return {'loss': loss}\n",
    "\n",
    "    def configure_optimizers(self):\n",
    "        return torch.optim.Adam(self.parameters(), lr=LR)\n",
    "\n",
    "    def on_before_zero_grad(self, _):\n",
    "        if self.learner.use_momentum:\n",
    "            self.learner.update_moving_average()"
   ]
  },
  {
   "cell_type": "code",
   "execution_count": null,
   "id": "81d8266b",
   "metadata": {},
   "outputs": [],
   "source": [
    "class PredictWrapper(pl.LightningModule):\n",
    "    def __init__(self, net, **kwargs):\n",
    "        super().__init__()\n",
    "        self.learner = net\n",
    "        \n",
    "    def forward(self, images):\n",
    "        return self.learner(images)\n",
    "    \n",
    "    def predict_step(self, batch, batch_idx, dataloader_idx=0):\n",
    "        images, labels = batch\n",
    "        return self.forward(images), labels"
   ]
  },
  {
   "cell_type": "code",
   "execution_count": null,
   "id": "ef1e53f63ffbea4a",
   "metadata": {},
   "outputs": [],
   "source": [
    "transform = transforms.Compose([\n",
    "    transforms.Resize((IMAGE_SIZE,IMAGE_SIZE)),\n",
    "    transforms.ToTensor(),\n",
    "])\n",
    "\n",
    "ds_train = datasets.ImageNet(root='/scratch/gpfs/DATASETS/imagenet/ilsvrc_2012_classification_localization', split='train', transform=transform)\n",
    "train_loader = DataLoader(ds_train, batch_size=BATCH_SIZE, num_workers=NUM_WORKERS, shuffle=True)\n",
    "\n",
    "ds_test = datasets.ImageNet(root='/scratch/gpfs/DATASETS/imagenet/ilsvrc_2012_classification_localization', split='val', transform=transform)\n",
    "ds_test = torch.utils.data.Subset(ds_test, list(range(500))) \n",
    "test_loader = DataLoader(ds_test, batch_size=BATCH_SIZE, num_workers=NUM_WORKERS, shuffle=False)"
   ]
  },
  {
   "cell_type": "code",
   "execution_count": null,
   "id": "cf364c6e",
   "metadata": {},
   "outputs": [],
   "source": [
    "def get_predictions(net, data_loader):\n",
    "    trainer = pl.Trainer(devices=NUM_GPUS)\n",
    "    \n",
    "    predictions = trainer.predict(PredictWrapper(net), data_loader)\n",
    "    all_features = []\n",
    "    all_labels = []\n",
    "    \n",
    "    for embeddings, ground_truths in predictions:\n",
    "        all_features.append(embeddings.view(embeddings.size(0), -1))\n",
    "        all_labels.extend(ground_truths)\n",
    "        \n",
    "    features = torch.cat(all_features).numpy()\n",
    "    labels = torch.tensor(all_labels).numpy()\n",
    "    \n",
    "    return features, labels"
   ]
  },
  {
   "cell_type": "code",
   "execution_count": null,
   "id": "e5fe6227516a3e92",
   "metadata": {},
   "outputs": [],
   "source": [
    "def visualize(net, data_loader):\n",
    "    features, labels = get_predictions(net, data_loader)\n",
    "    \n",
    "    pca = PCA()\n",
    "    pca_features = pca.fit_transform(features)\n",
    "    \n",
    "    pc1_variance = pca.explained_variance_ratio_[0]\n",
    "    pc2_variance = pca.explained_variance_ratio_[1]\n",
    "\n",
    "    plt.figure(figsize=(10, 8))\n",
    "    scatter = plt.scatter(pca_features[:, 0], pca_features[:, 1], c=labels, cmap='plasma')\n",
    "    plt.legend(handles=scatter.legend_elements()[0])\n",
    "    plt.xlabel(f'PC1 (Variance: {pc1_variance:.3f})')\n",
    "    plt.ylabel(f'PC2 (Variance: {pc2_variance:.3f})')\n",
    "    plt.title('Model Features Projected to 2D using PCA')\n",
    "    plt.show()"
   ]
  },
  {
   "cell_type": "code",
   "execution_count": null,
   "id": "1686e37b3536afd6",
   "metadata": {},
   "outputs": [],
   "source": [
    "model = SelfSupervisedLearner(\n",
    "    resnet,\n",
    "    image_size=IMAGE_SIZE,\n",
    "    hidden_layer='avgpool',\n",
    "    projection_size=256,\n",
    "    projection_hidden_size=4096,\n",
    "    moving_average_decay=0.99\n",
    ")"
   ]
  },
  {
   "cell_type": "code",
   "execution_count": null,
   "id": "5271ad1e",
   "metadata": {},
   "outputs": [],
   "source": [
    "trainer = pl.Trainer(\n",
    "    devices=NUM_GPUS,\n",
    "    max_epochs=EPOCHS,\n",
    "    accumulate_grad_batches=1,\n",
    "    sync_batchnorm=True\n",
    ")"
   ]
  },
  {
   "cell_type": "code",
   "execution_count": null,
   "id": "879f7913",
   "metadata": {},
   "outputs": [],
   "source": [
    "visualize(resnet, test_loader)"
   ]
  },
  {
   "cell_type": "code",
   "execution_count": null,
   "id": "90bbb0c6e86cc5a2",
   "metadata": {},
   "outputs": [],
   "source": [
    "trainer.fit(model, train_loader)"
   ]
  },
  {
   "cell_type": "code",
   "execution_count": null,
   "id": "424bbe96",
   "metadata": {},
   "outputs": [],
   "source": [
    "visualize(resnet, test_loader)"
   ]
  }
 ],
 "metadata": {
  "kernelspec": {
   "display_name": "byol [~/.conda/envs/byol/]",
   "language": "python",
   "name": "conda_byol"
  },
  "language_info": {
   "codemirror_mode": {
    "name": "ipython",
    "version": 3
   },
   "file_extension": ".py",
   "mimetype": "text/x-python",
   "name": "python",
   "nbconvert_exporter": "python",
   "pygments_lexer": "ipython3",
   "version": "3.12.1"
  }
 },
 "nbformat": 4,
 "nbformat_minor": 5
}
