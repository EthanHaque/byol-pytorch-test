{
 "cells": [
  {
   "cell_type": "code",
   "execution_count": null,
   "id": "75909397",
   "metadata": {},
   "outputs": [],
   "source": [
    "import os\n",
    "import argparse\n",
    "import multiprocessing\n",
    "from pathlib import Path\n",
    "from PIL import Image\n",
    "\n",
    "import torch\n",
    "from torchvision import models, transforms\n",
    "from torch.utils.data import DataLoader, Dataset\n",
    "\n",
    "from byol_pytorch import BYOL\n",
    "import pytorch_lightning as pl\n",
    "\n",
    "from torchvision.datasets import CIFAR10"
   ]
  },
  {
   "cell_type": "code",
   "execution_count": null,
   "id": "52fed073",
   "metadata": {},
   "outputs": [],
   "source": [
    "resnet = models.resnet50(pretrained=True)"
   ]
  },
  {
   "cell_type": "code",
   "execution_count": null,
   "id": "a478e135",
   "metadata": {},
   "outputs": [],
   "source": [
    "BATCH_SIZE = 4096\n",
    "EPOCHS = 1000\n",
    "LR = 3e-4\n",
    "NUM_GPUS = 1\n",
    "IMAGE_SIZE = 32\n",
    "NUM_WORKERS = int(os.environ[\"SLURM_CPUS_PER_TASK\"])"
   ]
  },
  {
   "cell_type": "code",
   "execution_count": null,
   "id": "f788891c",
   "metadata": {},
   "outputs": [],
   "source": [
    "class SelfSupervisedLearner(pl.LightningModule):\n",
    "    def __init__(self, net, **kwargs):\n",
    "        super().__init__()\n",
    "        self.learner = BYOL(net, **kwargs)\n",
    "\n",
    "    def forward(self, images):\n",
    "        return self.learner(images)\n",
    "\n",
    "    def training_step(self, images, _):\n",
    "        loss = self.forward(images)\n",
    "        return {'loss': loss}\n",
    "\n",
    "    def configure_optimizers(self):\n",
    "        return torch.optim.Adam(self.parameters(), lr=LR)\n",
    "\n",
    "    def on_before_zero_grad(self, _):\n",
    "        if self.learner.use_momentum:\n",
    "            self.learner.update_moving_average()"
   ]
  },
  {
   "cell_type": "code",
   "execution_count": null,
   "id": "75218375",
   "metadata": {},
   "outputs": [],
   "source": [
    "class CIFAR10_Wrapper(Dataset):\n",
    "    def __init__(self, original_dataset):\n",
    "        self.original_dataset = original_dataset\n",
    "\n",
    "    def __len__(self):\n",
    "        return len(self.original_dataset)\n",
    "\n",
    "    def __getitem__(self, idx):\n",
    "        image, _ = self.original_dataset[idx]\n",
    "        return image"
   ]
  },
  {
   "cell_type": "code",
   "execution_count": null,
   "id": "2cec923e",
   "metadata": {},
   "outputs": [],
   "source": [
    "transform = transforms.Compose([\n",
    "    transforms.ToTensor(),\n",
    "    transforms.Normalize((0.5, 0.5, 0.5), (0.5, 0.5, 0.5))\n",
    "])\n",
    "\n",
    "ds = CIFAR10(root='/scratch/gpfs/eh0560/data', train=True, download=False, transform=transform)\n",
    "wrapper = CIFAR10_Wrapper(ds)\n",
    "train_loader = DataLoader(wrapper, batch_size=BATCH_SIZE, num_workers=NUM_WORKERS, shuffle=True)"
   ]
  },
  {
   "cell_type": "code",
   "execution_count": null,
   "id": "eb9ca1c2",
   "metadata": {},
   "outputs": [],
   "source": [
    "model = SelfSupervisedLearner(\n",
    "    resnet,\n",
    "    image_size=IMAGE_SIZE,\n",
    "    hidden_layer='avgpool',\n",
    "    projection_size=256,\n",
    "    projection_hidden_size=4096,\n",
    "    moving_average_decay=0.99\n",
    ")\n",
    "\n",
    "trainer = pl.Trainer(\n",
    "    devices=NUM_GPUS,\n",
    "    max_epochs=EPOCHS,\n",
    "    accumulate_grad_batches=1,\n",
    "    sync_batchnorm=True\n",
    ")"
   ]
  },
  {
   "cell_type": "code",
   "execution_count": null,
   "id": "b15a098a",
   "metadata": {},
   "outputs": [],
   "source": [
    "trainer.fit(model, train_loader)"
   ]
  }
 ],
 "metadata": {
  "kernelspec": {
   "display_name": "byol [~/.conda/envs/byol/]",
   "language": "python",
   "name": "conda_byol"
  },
  "language_info": {
   "codemirror_mode": {
    "name": "ipython",
    "version": 3
   },
   "file_extension": ".py",
   "mimetype": "text/x-python",
   "name": "python",
   "nbconvert_exporter": "python",
   "pygments_lexer": "ipython3",
   "version": "3.12.1"
  }
 },
 "nbformat": 4,
 "nbformat_minor": 5
}
