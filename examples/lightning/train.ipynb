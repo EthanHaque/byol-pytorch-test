{
 "cells": [
  {
   "cell_type": "code",
   "execution_count": 1,
   "id": "af935c99",
   "metadata": {},
   "outputs": [
    {
     "name": "stderr",
     "output_type": "stream",
     "text": [
      "/home/eh0560/.conda/envs/byol/lib/python3.12/site-packages/tqdm/auto.py:21: TqdmWarning: IProgress not found. Please update jupyter and ipywidgets. See https://ipywidgets.readthedocs.io/en/stable/user_install.html\n",
      "  from .autonotebook import tqdm as notebook_tqdm\n"
     ]
    }
   ],
   "source": [
    "import os\n",
    "import torch\n",
    "from torchvision import models, transforms\n",
    "from torch.utils.data import DataLoader, Dataset\n",
    "\n",
    "from byol_pytorch import BYOL\n",
    "import pytorch_lightning as pl\n",
    "\n",
    "from torchvision import datasets\n",
    "\n",
    "from sklearn.decomposition import PCA\n",
    "import matplotlib.pyplot as plt"
   ]
  },
  {
   "cell_type": "code",
   "execution_count": 2,
   "id": "c39544a8",
   "metadata": {},
   "outputs": [],
   "source": [
    "resnet = models.resnet50(weights=None)"
   ]
  },
  {
   "cell_type": "code",
   "outputs": [],
   "source": [
    "BATCH_SIZE = 256\n",
    "EPOCHS = 2\n",
    "LR = 3e-4\n",
    "NUM_GPUS = 1\n",
    "IMAGE_SIZE = 224\n",
    "NUM_WORKERS = int(os.environ['SLURM_CPUS_PER_TASK'])"
   ],
   "metadata": {
    "collapsed": false
   },
   "id": "691b90c467673192"
  },
  {
   "cell_type": "code",
   "outputs": [],
   "source": [
    "class SelfSupervisedLearner(pl.LightningModule):\n",
    "    def __init__(self, net, **kwargs):\n",
    "        super().__init__()\n",
    "        self.learner = BYOL(net, **kwargs)\n",
    "\n",
    "    def forward(self, images):\n",
    "        return self.learner(images)\n",
    "\n",
    "    def training_step(self, images, _):\n",
    "        loss = self.forward(images)\n",
    "        return {'loss': loss}\n",
    "\n",
    "    def configure_optimizers(self):\n",
    "        return torch.optim.Adam(self.parameters(), lr=LR)\n",
    "\n",
    "    def on_before_zero_grad(self, _):\n",
    "        if self.learner.use_momentum:\n",
    "            self.learner.update_moving_average()"
   ],
   "metadata": {
    "collapsed": false
   },
   "id": "3ae85257f0047685"
  },
  {
   "cell_type": "code",
   "outputs": [],
   "source": [
    "class GenericLightningWrapper(pl.LightningModule):\n",
    "    def __init__(self, net, **kwargs):\n",
    "        super().__init__()\n",
    "        self.learner = net\n",
    "        \n",
    "    def forward(self, images):\n",
    "        return self.learner(images)"
   ],
   "metadata": {
    "collapsed": false
   },
   "id": "e42131e4f56ea65"
  },
  {
   "cell_type": "code",
   "outputs": [],
   "source": [
    "# class DataWrapper(Dataset):\n",
    "#     def __init__(self, original_dataset):\n",
    "#         self.original_dataset = original_dataset\n",
    "# \n",
    "#     def __len__(self):\n",
    "#         return len(self.original_dataset)\n",
    "# \n",
    "#     def __getitem__(self, idx):\n",
    "#         image, _ = self.original_dataset[idx]\n",
    "#         return image"
   ],
   "metadata": {
    "collapsed": false
   },
   "id": "732970f88340779d"
  },
  {
   "cell_type": "code",
   "outputs": [],
   "source": [
    "transform = transforms.Compose([\n",
    "    transforms.Resize((IMAGE_SIZE,IMAGE_SIZE)),\n",
    "    transforms.ToTensor(),\n",
    "])\n",
    "\n",
    "ds_train = datasets.ImageNet(root=\"/scratch/gpfs/DATASETS/imagenet/ilsvrc_2012_classification_localization\", split=\"train\", transform=transform)\n",
    "train_loader = DataLoader(ds_train, batch_size=BATCH_SIZE, num_workers=NUM_WORKERS, shuffle=True)\n",
    "\n",
    "ds_test = datasets.ImageNet(root=\"/scratch/gpfs/DATASETS/imagenet/ilsvrc_2012_classification_localization\", split=\"val\", transform=transform)\n",
    "test_loader = DataLoader(ds_test, batch_size=BATCH_SIZE, num_workers=NUM_WORKERS, shuffle=False)"
   ],
   "metadata": {
    "collapsed": false
   },
   "id": "ef1e53f63ffbea4a"
  },
  {
   "cell_type": "code",
   "outputs": [],
   "source": [
    "def visualize(net, data_loader):\n",
    "    net.eval()\n",
    "    all_features = []\n",
    "    all_labels = []\n",
    "    with torch.no_grad():\n",
    "        for i, (images, labels) in enumerate(data_loader):\n",
    "            output = net(images)\n",
    "            all_features.append(output.view(output.size(0), -1))\n",
    "            all_labels.extend(labels)\n",
    "            \n",
    "    features = torch.cat(all_features).numpy()\n",
    "    labels = torch.tensor(all_labels).numpy()\n",
    "    \n",
    "    pca = PCA()\n",
    "    pca_features = pca.fit_transform(features)\n",
    "    \n",
    "    print(pca.explained_variance_ratio_)\n",
    "\n",
    "    plt.figure(figsize=(10, 8))\n",
    "    scatter = plt.scatter(pca_features[:, 0], pca_features[:, 1], c=labels, cmap='plasma')\n",
    "    plt.legend(handles=scatter.legend_elements()[0])\n",
    "    plt.xlabel('PC1')\n",
    "    plt.ylabel('PC2')\n",
    "    plt.title('Model Features Projected to 2D using PCA')\n",
    "    plt.show()"
   ],
   "metadata": {
    "collapsed": false
   },
   "id": "e5fe6227516a3e92"
  },
  {
   "cell_type": "code",
   "outputs": [],
   "source": [
    "visualize(resnet, test_loader)"
   ],
   "metadata": {
    "collapsed": false
   },
   "id": "765b9919eda1103c"
  },
  {
   "cell_type": "code",
   "outputs": [],
   "source": [
    "model = SelfSupervisedLearner(\n",
    "    resnet,\n",
    "    image_size=IMAGE_SIZE,\n",
    "    hidden_layer='avgpool',\n",
    "    projection_size=256,\n",
    "    projection_hidden_size=4096,\n",
    "    moving_average_decay=0.99\n",
    ")\n",
    "\n",
    "trainer = pl.Trainer(\n",
    "    devices=NUM_GPUS,\n",
    "    max_epochs=EPOCHS,\n",
    "    accumulate_grad_batches=1,\n",
    "    sync_batchnorm=True\n",
    ")"
   ],
   "metadata": {
    "collapsed": false
   },
   "id": "1686e37b3536afd6"
  },
  {
   "cell_type": "code",
   "outputs": [],
   "source": [
    "trainer.fit(model, train_loader)"
   ],
   "metadata": {
    "collapsed": false
   },
   "id": "90bbb0c6e86cc5a2"
  },
  {
   "cell_type": "code",
   "outputs": [],
   "source": [
    "visualize(GenericLightningWrapper(resnet), test_loader)"
   ],
   "metadata": {
    "collapsed": false
   },
   "id": "8ea5d3c0e9b2547a"
  }
 ],
 "metadata": {
  "kernelspec": {
   "display_name": "byol [~/.conda/envs/byol/]",
   "language": "python",
   "name": "conda_byol"
  },
  "language_info": {
   "codemirror_mode": {
    "name": "ipython",
    "version": 3
   },
   "file_extension": ".py",
   "mimetype": "text/x-python",
   "name": "python",
   "nbconvert_exporter": "python",
   "pygments_lexer": "ipython3",
   "version": "3.12.1"
  }
 },
 "nbformat": 4,
 "nbformat_minor": 5
}
